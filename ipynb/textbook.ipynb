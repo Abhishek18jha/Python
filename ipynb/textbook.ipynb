{
 "metadata": {
  "language_info": {
   "codemirror_mode": {
    "name": "ipython",
    "version": 3
   },
   "file_extension": ".py",
   "mimetype": "text/x-python",
   "name": "python",
   "nbconvert_exporter": "python",
   "pygments_lexer": "ipython3",
   "version": "3.9.1-final"
  },
  "orig_nbformat": 2,
  "kernelspec": {
   "name": "python3",
   "display_name": "Python 3.9.1 64-bit",
   "metadata": {
    "interpreter": {
     "hash": "08333f266fbf220cc6304d09a6d05685b04da102ef0ca7fc6ef97e1506f3d2b6"
    }
   }
  }
 },
 "nbformat": 4,
 "nbformat_minor": 2,
 "cells": [
  {
   "source": [
    "# New Book \n"
   ],
   "cell_type": "markdown",
   "metadata": {}
  },
  {
   "cell_type": "code",
   "execution_count": 4,
   "metadata": {},
   "outputs": [
    {
     "output_type": "execute_result",
     "data": {
      "text/plain": [
       "' this is\\nnew line or \\nmultiline'"
      ]
     },
     "metadata": {},
     "execution_count": 4
    }
   ],
   "source": [
    "True and False\n",
    "\n",
    "''' this is\n",
    "new line or \n",
    "multiline'''\n"
   ]
  },
  {
   "cell_type": "code",
   "execution_count": 9,
   "metadata": {},
   "outputs": [
    {
     "output_type": "stream",
     "name": "stdout",
     "text": [
      "None\n"
     ]
    },
    {
     "output_type": "execute_result",
     "data": {
      "text/plain": [
       "' comm \\ndfdf'"
      ]
     },
     "metadata": {},
     "execution_count": 9
    }
   ],
   "source": [
    "mone = None\n",
    "print(None)\n",
    "# Comment\n",
    "\"\"\" comm \n",
    "dfdf\"\"\"\n"
   ]
  },
  {
   "source": [
    "# Reading Input "
   ],
   "cell_type": "markdown",
   "metadata": {}
  },
  {
   "cell_type": "code",
   "execution_count": 18,
   "metadata": {},
   "outputs": [
    {
     "output_type": "stream",
     "name": "stdout",
     "text": [
      "i live in abhi\n"
     ]
    }
   ],
   "source": [
    "v = input(\"what is your name\")\n",
    "print(\"i live in {0}\".format(v))"
   ]
  },
  {
   "cell_type": "code",
   "execution_count": 21,
   "metadata": {},
   "outputs": [
    {
     "output_type": "stream",
     "name": "stdout",
     "text": [
      "Area = 3629.84 and circum = 213.52\n"
     ]
    }
   ],
   "source": [
    "radious = int(input(\"Enter the radius of a circle\"))\n",
    "areaof = 3.14*radious**2\n",
    "circum = 2*3.14*radious\n",
    "print(f\"Area = {areaof} and circum = {circum}\")"
   ]
  },
  {
   "source": [
    "# Program 2.5: Write Python Program to # convert the Given Number of Days\n",
    "# to a Measure of Time Given in Years, # Weeks and Days. For Example,\n",
    "\n",
    "# 375 Days Is Equal to 1 Year, 1 Week and # 3 Days (Ignore Leap Year)."
   ],
   "cell_type": "markdown",
   "metadata": {}
  },
  {
   "cell_type": "code",
   "execution_count": 29,
   "metadata": {},
   "outputs": [
    {
     "output_type": "stream",
     "name": "stdout",
     "text": [
      "Years = 2, Weeks = 25, Days =3\n"
     ]
    }
   ],
   "source": [
    "no_of_Days = int(input(\"Enter no of days\"))\n",
    "no_of_year = int(no_of_Days/365)\n",
    "no_of_weeks = int(no_of_Days%365/7)\n",
    "remaining_no_days = int(no_of_Days%365%7)\n",
    "print(f\"Years = {no_of_year}, Weeks = {no_of_weeks}, Days ={remaining_no_days}\")\n"
   ]
  },
  {
   "source": [
    "# Type Conversions"
   ],
   "cell_type": "markdown",
   "metadata": {}
  },
  {
   "cell_type": "code",
   "execution_count": 35,
   "metadata": {},
   "outputs": [
    {
     "output_type": "stream",
     "name": "stdout",
     "text": [
      "After Float to Integer Casting the result is 3\nAfter String to Integer Casting the result is 1\n"
     ]
    }
   ],
   "source": [
    "float_to_int = int(3.5)\n",
    "string_to_int = int(\"1\") #number treated as string\n",
    "print(f\"After Float to Integer Casting the result is {float_to_int}\")\n",
    "print(f\"After String to Integer Casting the result is {string_to_int}\")"
   ]
  },
  {
   "source": [
    "# Convert to num"
   ],
   "cell_type": "markdown",
   "metadata": {}
  },
  {
   "cell_type": "code",
   "execution_count": 41,
   "metadata": {},
   "outputs": [
    {
     "output_type": "execute_result",
     "data": {
      "text/plain": [
       "132"
      ]
     },
     "metadata": {},
     "execution_count": 41
    }
   ],
   "source": [
    "num = input(\"Enter a number\")\n",
    "num_converted = int(num)\n",
    "num_converted"
   ]
  },
  {
   "source": [
    "# Convert to float"
   ],
   "cell_type": "markdown",
   "metadata": {}
  },
  {
   "cell_type": "code",
   "execution_count": 44,
   "metadata": {},
   "outputs": [
    {
     "output_type": "execute_result",
     "data": {
      "text/plain": [
       "1171.3000000000002"
      ]
     },
     "metadata": {},
     "execution_count": 44
    }
   ],
   "source": [
    "num = input(\"Enter a float no\")\n",
    "num_converted = float(num)\n",
    "num_converted*34"
   ]
  },
  {
   "cell_type": "code",
   "execution_count": 45,
   "metadata": {},
   "outputs": [
    {
     "output_type": "stream",
     "name": "stdout",
     "text": [
      "After Integer to Float Casting the result is 4.0\nAfter String to Float Casting the result is 1.0\n"
     ]
    }
   ],
   "source": [
    "int_to_float = float(4)\n",
    "string_to_float = float(\"1\") #number treated as string\n",
    "print(f\"After Integer to Float Casting the result is {int_to_float}\")\n",
    "print(f\"After String to Float Casting the result is {string_to_float}\")"
   ]
  },
  {
   "source": [
    "## Convert an integer number (of any size) to a lowercase hexadecimal string prefixed with\n",
    "“0x” using hex() function."
   ],
   "cell_type": "markdown",
   "metadata": {}
  },
  {
   "cell_type": "code",
   "execution_count": 48,
   "metadata": {},
   "outputs": [
    {
     "output_type": "stream",
     "name": "stdout",
     "text": [
      "After integer to Hex Casting 0x22\n"
     ]
    }
   ],
   "source": [
    "int_to_hex = hex(34)\n",
    "print(f\"After integer to Hex Casting {int_to_hex}\")"
   ]
  },
  {
   "source": [
    "## Convert an integer number (of any size) to an octal string prefixed with “0o” using oct()\n",
    "function."
   ],
   "cell_type": "markdown",
   "metadata": {}
  },
  {
   "cell_type": "code",
   "execution_count": 49,
   "metadata": {},
   "outputs": [
    {
     "output_type": "stream",
     "name": "stdout",
     "text": [
      "After Integer to Hex Casting the result is 0o377\n"
     ]
    }
   ],
   "source": [
    "int_to_oct = oct(255)\n",
    "print(f\"After Integer to Hex Casting the result is {int_to_oct}\")"
   ]
  },
  {
   "source": [
    "## 2.13 The type() Function and Is Operator"
   ],
   "cell_type": "markdown",
   "metadata": {}
  },
  {
   "cell_type": "code",
   "execution_count": 53,
   "metadata": {},
   "outputs": [
    {
     "output_type": "stream",
     "name": "stdout",
     "text": [
      "<class 'int'>\n<class 'float'>\n<class 'str'>\n<class 'bool'>\n"
     ]
    }
   ],
   "source": [
    "print(type(1))\n",
    "print(type(4.5))\n",
    "print(type(\"A\"))\n",
    "print(type(True))\n"
   ]
  },
  {
   "source": [
    "## Python is Dynanic type Language"
   ],
   "cell_type": "markdown",
   "metadata": {}
  },
  {
   "source": [
    "## Control Flow Statements"
   ],
   "cell_type": "markdown",
   "metadata": {}
  },
  {
   "cell_type": "code",
   "execution_count": 54,
   "metadata": {},
   "outputs": [
    {
     "output_type": "stream",
     "name": "stdout",
     "text": [
      "20 is greater than 10\n"
     ]
    }
   ],
   "source": [
    "if 20>10:\n",
    "    print(f\"20 is greater than 10\")"
   ]
  },
  {
   "source": [
    "### Program 3.1: Program Reads a Number and Prints a Message If It Is Positive\n"
   ],
   "cell_type": "markdown",
   "metadata": {}
  },
  {
   "cell_type": "code",
   "execution_count": 64,
   "metadata": {},
   "outputs": [
    {
     "output_type": "stream",
     "name": "stdout",
     "text": [
      "Number -12 is negative\n"
     ]
    }
   ],
   "source": [
    "number = int(input(\"Enter a number\"))\n",
    "if number >= 0:\n",
    "    print(f\"The number entered by the user is a positive number\")\n",
    "else:\n",
    "    print(f\"Number {number} is negative\")"
   ]
  },
  {
   "source": [
    "### Program 3.4: Program to Find the Greater of Two Numbers\n"
   ],
   "cell_type": "markdown",
   "metadata": {}
  },
  {
   "cell_type": "code",
   "execution_count": 65,
   "metadata": {},
   "outputs": [
    {
     "output_type": "stream",
     "name": "stdout",
     "text": [
      "34 is greater than 23\n"
     ]
    }
   ],
   "source": [
    "number_1 = int(input(\"Enter the first number\"))\n",
    "number_2 = int(input(\"Enter the second number\"))\n",
    "if number_1 > number_2:\n",
    "    print(f\"{number_1} is greater than {number_2}\")\n",
    "else:\n",
    "    print(f\"{number_2} is greater than {number_1}\")"
   ]
  },
  {
   "source": [
    "## if…elif…else decision control statement is executed as follows: "
   ],
   "cell_type": "markdown",
   "metadata": {}
  },
  {
   "cell_type": "code",
   "execution_count": 68,
   "metadata": {},
   "outputs": [
    {
     "output_type": "stream",
     "name": "stdout",
     "text": [
      "Your Grade is \"C\" \n"
     ]
    }
   ],
   "source": [
    " score = float(input(\"Enter your score\"))\n",
    "if score < 0 or score > 1:\n",
    "    print('Wrong Input')\n",
    "elif score >= 0.9:\n",
    "    print('Your Grade is \"A\" ')\n",
    "elif score >= 0.8:\n",
    "    print('Your Grade is \"B\" ')\n",
    "elif score >= 0.7:\n",
    "    print('Your Grade is \"C\" ')\n",
    "elif score >= 0.6:\n",
    "    print('Your Grade is \"D\" ')\n",
    "else:\n",
    "    print('Your Grade is \"F\" ')"
   ]
  },
  {
   "source": [
    "## If Nested"
   ],
   "cell_type": "markdown",
   "metadata": {}
  },
  {
   "source": [
    "### Program 3.7: Program to Check If a Given Year Is a Leap Year\n"
   ],
   "cell_type": "markdown",
   "metadata": {}
  },
  {
   "cell_type": "code",
   "execution_count": 69,
   "metadata": {},
   "outputs": [
    {
     "output_type": "stream",
     "name": "stdout",
     "text": [
      "2020 is a Leap Year\n"
     ]
    }
   ],
   "source": [
    "year = int(input('Enter a year'))\n",
    "if year % 4 == 0:\n",
    "    if year % 100 == 0:\n",
    "        if year % 400 == 0:\n",
    "            print(f'{year} is a Leap Year')\n",
    "        else:\n",
    "            print(f'{year} is not a Leap Year')\n",
    "    else:\n",
    "        print(f'{year} is a Leap Year')\n",
    "else:\n",
    "    print(f'{year} is not a Leap Year')"
   ]
  },
  {
   "source": [
    "## While Loop\n"
   ],
   "cell_type": "markdown",
   "metadata": {}
  },
  {
   "source": [
    "### Program 3.8: Write Python Program toDisplay First 10 Numbers Using while Loop Starting from 0"
   ],
   "cell_type": "markdown",
   "metadata": {}
  },
  {
   "cell_type": "code",
   "execution_count": 73,
   "metadata": {},
   "outputs": [
    {
     "output_type": "stream",
     "name": "stdout",
     "text": [
      "Current value of i is 0\nCurrent value of i is 1\nCurrent value of i is 2\nCurrent value of i is 3\nCurrent value of i is 4\nCurrent value of i is 5\nCurrent value of i is 6\nCurrent value of i is 7\nCurrent value of i is 8\nCurrent value of i is 9\n"
     ]
    }
   ],
   "source": [
    "i =0\n",
    "while i<10:\n",
    "    print(f\"Current value of i is {i}\")\n",
    "    i =i +1"
   ]
  },
  {
   "cell_type": "code",
   "execution_count": null,
   "metadata": {},
   "outputs": [],
   "source": []
  },
  {
   "cell_type": "code",
   "execution_count": 78,
   "metadata": {},
   "outputs": [
    {
     "output_type": "stream",
     "name": "stdout",
     "text": [
      "The average of 10 natural numbers is 1.0\nThe sum of 10 natural numbers is 1\nThe average of 10 natural numbers is 1.5\nThe sum of 10 natural numbers is 3\nThe average of 10 natural numbers is 2.0\nThe sum of 10 natural numbers is 6\nThe average of 10 natural numbers is 2.5\nThe sum of 10 natural numbers is 10\nThe average of 10 natural numbers is 3.0\nThe sum of 10 natural numbers is 15\nThe average of 10 natural numbers is 3.5\nThe sum of 10 natural numbers is 21\nThe average of 10 natural numbers is 4.0\nThe sum of 10 natural numbers is 28\nThe average of 10 natural numbers is 4.5\nThe sum of 10 natural numbers is 36\nThe average of 10 natural numbers is 5.0\nThe sum of 10 natural numbers is 45\nThe average of 10 natural numbers is 5.5\nThe sum of 10 natural numbers is 55\n"
     ]
    }
   ],
   "source": [
    "number = int(input(\"Enter a number up to which you want to find the average\"))\n",
    "i = 0\n",
    "sum = 0\n",
    "count = 0\n",
    "while i < number:\n",
    "    i = i + 1\n",
    "    sum = sum + i\n",
    "    count = count + 1\n",
    "    average = sum/count\n",
    "    print(f\"The average of {number} natural numbers is {average}\")\n",
    "     print(f\"The sum of {number} natural numbers is {sum}\")\n"
   ]
  }
 ]
}